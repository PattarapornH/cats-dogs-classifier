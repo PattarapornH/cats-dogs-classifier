{
  "nbformat": 4,
  "nbformat_minor": 0,
  "metadata": {
    "colab": {
      "name": "cats_dogs_classifier.ipynb",
      "version": "0.3.2",
      "provenance": [],
      "collapsed_sections": [],
      "include_colab_link": true
    },
    "kernelspec": {
      "name": "python3",
      "display_name": "Python 3"
    }
  },
  "cells": [
    {
      "cell_type": "markdown",
      "metadata": {
        "id": "view-in-github",
        "colab_type": "text"
      },
      "source": [
        "<a href=\"https://colab.research.google.com/github/PattarapornH/cats-dogs-classifier/blob/master/cats_dogs_classifier.ipynb\" target=\"_parent\"><img src=\"https://colab.research.google.com/assets/colab-badge.svg\" alt=\"Open In Colab\"/></a>"
      ]
    },
    {
      "cell_type": "code",
      "metadata": {
        "id": "tLUwYZ7QHVFu",
        "colab_type": "code",
        "colab": {}
      },
      "source": [
        "from keras.models import Sequential\n",
        "from keras.layers import Conv2D\n",
        "from keras.layers import MaxPooling2D\n",
        "from keras.layers import Flatten\n",
        "from keras.layers import Dense\n",
        "from keras.layers import Dropout\n",
        "from keras.preprocessing.image import ImageDataGenerator\n",
        "from keras.preprocessing.image import load_img\n",
        "from keras.preprocessing.image import img_to_array\n",
        "from google.colab import drive\n",
        "\n",
        "import os\n",
        "import numpy as np\n",
        "import pandas as pd\n",
        "import matplotlib.pyplot as plt\n",
        "%matplotlib inline"
      ],
      "execution_count": 0,
      "outputs": []
    },
    {
      "cell_type": "code",
      "metadata": {
        "id": "pXnF0ZxGIK-F",
        "colab_type": "code",
        "outputId": "35f65467-9610-43d0-c0e2-e537dc51c486",
        "colab": {
          "base_uri": "https://localhost:8080/",
          "height": 35
        }
      },
      "source": [
        "drive.mount('/content/gdrive')"
      ],
      "execution_count": 86,
      "outputs": [
        {
          "output_type": "stream",
          "text": [
            "Drive already mounted at /content/gdrive; to attempt to forcibly remount, call drive.mount(\"/content/gdrive\", force_remount=True).\n"
          ],
          "name": "stdout"
        }
      ]
    },
    {
      "cell_type": "code",
      "metadata": {
        "id": "dHG3d5KNQWYV",
        "colab_type": "code",
        "outputId": "894f3824-5707-44c4-eee6-caf70db3d6c8",
        "colab": {
          "base_uri": "https://localhost:8080/",
          "height": 35
        }
      },
      "source": [
        "!ls 'gdrive/My Drive/Colab Notebooks/cats_dogs/'"
      ],
      "execution_count": 87,
      "outputs": [
        {
          "output_type": "stream",
          "text": [
            "cats_dogs_classifier.ipynb  test_set  training_set\n"
          ],
          "name": "stdout"
        }
      ]
    },
    {
      "cell_type": "code",
      "metadata": {
        "id": "KL9mNV0e1RCL",
        "colab_type": "code",
        "colab": {}
      },
      "source": [
        "# collect training data path\n",
        "path_train = 'gdrive/My Drive/Colab Notebooks/cats_dogs/training_set/'\n",
        "path_cats_train = []\n",
        "path_dogs_train = []\n",
        "for path in os.listdir(path_train + 'cats'):\n",
        "  path_cats_train.append(os.path.join(path_train+'cats', path))\n",
        "for path in os.listdir(path_train + 'dogs'):\n",
        "  path_dogs_train.append(os.path.join(path_train+'dogs', path))"
      ],
      "execution_count": 0,
      "outputs": []
    },
    {
      "cell_type": "code",
      "metadata": {
        "id": "yY-6Tx6l1SAz",
        "colab_type": "code",
        "outputId": "0953d651-96f1-44d0-b776-a97fbdcc1dda",
        "colab": {
          "base_uri": "https://localhost:8080/",
          "height": 35
        }
      },
      "source": [
        "len(path_cats_train),len(path_dogs_train)"
      ],
      "execution_count": 89,
      "outputs": [
        {
          "output_type": "execute_result",
          "data": {
            "text/plain": [
              "(4000, 4005)"
            ]
          },
          "metadata": {
            "tags": []
          },
          "execution_count": 89
        }
      ]
    },
    {
      "cell_type": "code",
      "metadata": {
        "id": "gXf_kPsJ3Ntq",
        "colab_type": "code",
        "outputId": "cbfbac34-b22a-422d-f8bd-59a49245abe9",
        "colab": {
          "base_uri": "https://localhost:8080/",
          "height": 69
        }
      },
      "source": [
        "# load training data\n",
        "X_train = []\n",
        "for i in range(8005):\n",
        "  if(i%100 == 0):\n",
        "    print('.', end='')\n",
        "  if(i == 4000):\n",
        "    print('\\n')\n",
        "  try:\n",
        "    if(i < 4000):\n",
        "      path = path_cats_train[i]\n",
        "      img = load_img(path, target_size=(150, 150))\n",
        "      X_train.append(img_to_array(img))\n",
        "    else:\n",
        "      path = path_dogs_train[i - 4000]\n",
        "      img = load_img(path, target_size=(150, 150))\n",
        "      X_train.append(img_to_array(img))\n",
        "  except Exception as e:\n",
        "    print(e)\n",
        "    print(i)\n",
        "    break"
      ],
      "execution_count": 90,
      "outputs": [
        {
          "output_type": "stream",
          "text": [
            ".........................................\n",
            "\n",
            "........................................"
          ],
          "name": "stdout"
        }
      ]
    },
    {
      "cell_type": "code",
      "metadata": {
        "id": "ztsg-RnG7cGd",
        "colab_type": "code",
        "outputId": "d6813143-65aa-4355-90c9-4fe5d10fb4df",
        "colab": {
          "base_uri": "https://localhost:8080/",
          "height": 35
        }
      },
      "source": [
        "X_train = np.array(X_train)\n",
        "X_train.shape"
      ],
      "execution_count": 91,
      "outputs": [
        {
          "output_type": "execute_result",
          "data": {
            "text/plain": [
              "(8005, 150, 150, 3)"
            ]
          },
          "metadata": {
            "tags": []
          },
          "execution_count": 91
        }
      ]
    },
    {
      "cell_type": "code",
      "metadata": {
        "id": "X7rAgMBjPBAN",
        "colab_type": "code",
        "colab": {}
      },
      "source": [
        "# collect test data path\n",
        "path_test = 'gdrive/My Drive/Colab Notebooks/cats_dogs/test_set/'\n",
        "path_cats_test = []\n",
        "path_dogs_test = []\n",
        "for path in os.listdir(path_test + 'cats'):\n",
        "  path_cats_test.append(os.path.join(path_test+'cats', path))\n",
        "for path in os.listdir(path_test + 'dogs'):\n",
        "  path_dogs_test.append(os.path.join(path_test+'dogs', path))"
      ],
      "execution_count": 0,
      "outputs": []
    },
    {
      "cell_type": "code",
      "metadata": {
        "id": "7dBliLi5QNxE",
        "colab_type": "code",
        "outputId": "3b90f56c-aa52-441b-b03c-1896baa84b0b",
        "colab": {
          "base_uri": "https://localhost:8080/",
          "height": 35
        }
      },
      "source": [
        "len(path_cats_test),len(path_dogs_test)"
      ],
      "execution_count": 93,
      "outputs": [
        {
          "output_type": "execute_result",
          "data": {
            "text/plain": [
              "(1011, 1012)"
            ]
          },
          "metadata": {
            "tags": []
          },
          "execution_count": 93
        }
      ]
    },
    {
      "cell_type": "code",
      "metadata": {
        "id": "sdW6jDO2QFmT",
        "colab_type": "code",
        "outputId": "14eab2ea-2f68-4eee-fca0-0430d443a8ba",
        "colab": {
          "base_uri": "https://localhost:8080/",
          "height": 69
        }
      },
      "source": [
        "# load test data\n",
        "X_test = []\n",
        "for i in range(2023):\n",
        "  if(i%100 == 0):\n",
        "    print('.', end='')\n",
        "  if(i == 1012):\n",
        "    print('\\n')\n",
        "  try:\n",
        "    if(i < 1011):\n",
        "      path = path_cats_test[i]\n",
        "      img = load_img(path, target_size=(150, 150))\n",
        "      X_test.append(img_to_array(img))\n",
        "    else:\n",
        "      path = path_dogs_test[i - 1011]\n",
        "      img = load_img(path, target_size=(150, 150))\n",
        "      X_test.append(img_to_array(img))\n",
        "  except Exception as e:\n",
        "    print(e)\n",
        "    print(i)\n",
        "    break"
      ],
      "execution_count": 94,
      "outputs": [
        {
          "output_type": "stream",
          "text": [
            "...........\n",
            "\n",
            ".........."
          ],
          "name": "stdout"
        }
      ]
    },
    {
      "cell_type": "code",
      "metadata": {
        "id": "cWIguPZAQbIa",
        "colab_type": "code",
        "outputId": "3fc0218f-7414-4826-899b-aa7239d269b7",
        "colab": {
          "base_uri": "https://localhost:8080/",
          "height": 35
        }
      },
      "source": [
        "X_test = np.array(X_test)\n",
        "X_test.shape"
      ],
      "execution_count": 95,
      "outputs": [
        {
          "output_type": "execute_result",
          "data": {
            "text/plain": [
              "(2023, 150, 150, 3)"
            ]
          },
          "metadata": {
            "tags": []
          },
          "execution_count": 95
        }
      ]
    },
    {
      "cell_type": "code",
      "metadata": {
        "id": "GuDCm--oVBEl",
        "colab_type": "code",
        "colab": {}
      },
      "source": [
        "# init y --> 0 = cat, 1 = dog\n",
        "y_train = np.concatenate((np.zeros((4000,)), np.ones((4005,))))\n",
        "y_test = np.concatenate((np.zeros((1011,)), np.ones((1012,))))"
      ],
      "execution_count": 0,
      "outputs": []
    },
    {
      "cell_type": "code",
      "metadata": {
        "id": "DYeQiR-uWZaL",
        "colab_type": "code",
        "colab": {}
      },
      "source": [
        "# preprocessing\n",
        "train_datagen = ImageDataGenerator(\n",
        "    rotation_range=40,\n",
        "    width_shift_range=0.2,\n",
        "    height_shift_range=0.2,\n",
        "    shear_range=0.2,\n",
        "    zoom_range=0.2,\n",
        "    horizontal_flip=True,\n",
        "    fill_mode='nearest',\n",
        ")\n",
        "\n",
        "test_datagen = ImageDataGenerator(rescale=1./255)\n",
        "\n",
        "train_generator = train_datagen.flow(\n",
        "    X_train,\n",
        "    y_train,\n",
        "    batch_size=32)\n",
        "\n",
        "test_generator = test_datagen.flow(\n",
        "    X_test,\n",
        "    y_test,\n",
        "    batch_size=32)"
      ],
      "execution_count": 0,
      "outputs": []
    },
    {
      "cell_type": "code",
      "metadata": {
        "id": "ATtkeOXWXf5R",
        "colab_type": "code",
        "outputId": "70f8e2aa-1321-4bd3-9710-a77f13886b4a",
        "colab": {
          "base_uri": "https://localhost:8080/",
          "height": 416
        }
      },
      "source": [
        "# Init CNN\n",
        "model = Sequential()\n",
        "\n",
        "# Convolution\n",
        "model.add(Conv2D(32, (3, 3), activation='relu',input_shape=(150, 150, 3)))\n",
        "\n",
        "# Pooling\n",
        "model.add(MaxPooling2D((2, 2)))\n",
        "\n",
        "# Second layer of convolution\n",
        "model.add(Conv2D(32, (3, 3), activation='relu',input_shape=(150, 150, 3)))\n",
        "model.add(MaxPooling2D((2, 2)))\n",
        "\n",
        "# Flattening\n",
        "model.add(Flatten())\n",
        "\n",
        "# Dropout\n",
        "model.add(Dropout(0.3))\n",
        "\n",
        "# Full Connection\n",
        "model.add(Dense(512, activation='relu'))\n",
        "model.add(Dense(1, activation='sigmoid'))\n",
        "model.summary()"
      ],
      "execution_count": 98,
      "outputs": [
        {
          "output_type": "stream",
          "text": [
            "_________________________________________________________________\n",
            "Layer (type)                 Output Shape              Param #   \n",
            "=================================================================\n",
            "conv2d_11 (Conv2D)           (None, 148, 148, 32)      896       \n",
            "_________________________________________________________________\n",
            "max_pooling2d_11 (MaxPooling (None, 74, 74, 32)        0         \n",
            "_________________________________________________________________\n",
            "conv2d_12 (Conv2D)           (None, 72, 72, 32)        9248      \n",
            "_________________________________________________________________\n",
            "max_pooling2d_12 (MaxPooling (None, 36, 36, 32)        0         \n",
            "_________________________________________________________________\n",
            "flatten_5 (Flatten)          (None, 41472)             0         \n",
            "_________________________________________________________________\n",
            "dropout_4 (Dropout)          (None, 41472)             0         \n",
            "_________________________________________________________________\n",
            "dense_7 (Dense)              (None, 512)               21234176  \n",
            "_________________________________________________________________\n",
            "dense_8 (Dense)              (None, 1)                 513       \n",
            "=================================================================\n",
            "Total params: 21,244,833\n",
            "Trainable params: 21,244,833\n",
            "Non-trainable params: 0\n",
            "_________________________________________________________________\n"
          ],
          "name": "stdout"
        }
      ]
    },
    {
      "cell_type": "code",
      "metadata": {
        "id": "w9dz3Q5QZsaM",
        "colab_type": "code",
        "outputId": "06c9c04d-6f2f-48ee-8b6a-e031a251b6fc",
        "colab": {
          "base_uri": "https://localhost:8080/",
          "height": 191
        }
      },
      "source": [
        "model.compile(loss='binary_crossentropy', optimizer='adam',metrics=['accuracy'])\n",
        "\n",
        "train_model = model.fit_generator(\n",
        "    train_generator,\n",
        "    steps_per_epoch=100,\n",
        "    epochs= 5,\n",
        "    validation_data=test_generator,\n",
        "    validation_steps=50)"
      ],
      "execution_count": 99,
      "outputs": [
        {
          "output_type": "stream",
          "text": [
            "Epoch 1/5\n",
            "100/100 [==============================] - 179s 2s/step - loss: 8.0906 - acc: 0.4922 - val_loss: 7.8616 - val_acc: 0.5069\n",
            "Epoch 2/5\n",
            "100/100 [==============================] - 177s 2s/step - loss: 7.8118 - acc: 0.5100 - val_loss: 8.1989 - val_acc: 0.4857\n",
            "Epoch 3/5\n",
            "100/100 [==============================] - 176s 2s/step - loss: 7.9952 - acc: 0.4985 - val_loss: 7.9155 - val_acc: 0.5035\n",
            "Epoch 4/5\n",
            "100/100 [==============================] - 176s 2s/step - loss: 8.0110 - acc: 0.4975 - val_loss: 7.8852 - val_acc: 0.5054\n",
            "Epoch 5/5\n",
            "100/100 [==============================] - 177s 2s/step - loss: 7.9114 - acc: 0.5037 - val_loss: 7.9612 - val_acc: 0.5006\n"
          ],
          "name": "stdout"
        }
      ]
    },
    {
      "cell_type": "code",
      "metadata": {
        "id": "naGQ2hFjb8z-",
        "colab_type": "code",
        "outputId": "36a8b4e0-51ad-4077-9c41-3fc1578a288f",
        "colab": {
          "base_uri": "https://localhost:8080/",
          "height": 545
        }
      },
      "source": [
        "acc = train_model.history['acc']\n",
        "val_acc = train_model.history['val_acc']\n",
        "loss = train_model.history['loss']\n",
        "val_loss = train_model.history['val_loss']\n",
        "\n",
        "epochs = range(1, len(acc) + 1)\n",
        "\n",
        "plt.plot(epochs, acc, 'bo', label='Training acc')\n",
        "plt.plot(epochs, val_acc, 'b', label='Validation acc')\n",
        "plt.title('Training and validation accuracy')\n",
        "plt.legend()\n",
        "plt.figure()\n",
        "plt.plot(epochs, loss, 'bo', label='Training loss')\n",
        "plt.plot(epochs, val_loss, 'b', label='Validation loss')\n",
        "plt.title('Training and validation loss')\n",
        "plt.legend()\n",
        "plt.show()"
      ],
      "execution_count": 102,
      "outputs": [
        {
          "output_type": "display_data",
          "data": {
            "image/png": "[encoded data removed]",
            "text/plain": [
              "<Figure size 432x288 with 1 Axes>"
            ]
          },
          "metadata": {
            "tags": []
          }
        },
        {
          "output_type": "display_data",
          "data": {
            "image/png": "[encoded data removed]",
            "text/plain": [
              "<Figure size 432x288 with 1 Axes>"
            ]
          },
          "metadata": {
            "tags": []
          }
        }
      ]
    },
    {
      "cell_type": "code",
      "metadata": {
        "id": "Twbg1tN_hqwU",
        "colab_type": "code",
        "colab": {}
      },
      "source": [
        ""
      ],
      "execution_count": 0,
      "outputs": []
    }
  ]
}